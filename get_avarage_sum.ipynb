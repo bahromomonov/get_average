{
 "cells": [
  {
   "cell_type": "code",
   "execution_count": 20,
   "id": "f5c64cb9",
   "metadata": {},
   "outputs": [],
   "source": [
    "import pandas as pd\n",
    "import numpy as np"
   ]
  },
  {
   "cell_type": "code",
   "execution_count": 2,
   "id": "083bb301",
   "metadata": {},
   "outputs": [],
   "source": [
    "data=pd.read_excel(\"d:/Gidrometuz/tahlil/Meteostansiyalar_3/Andijon/0100.xlsx\")\n",
    "#data"
   ]
  },
  {
   "cell_type": "code",
   "execution_count": 3,
   "id": "15ce70d9",
   "metadata": {},
   "outputs": [],
   "source": [
    "data['Date']=data['Date'].astype(str)\n",
    "data['Date']=data['Date'].str.split(pat=\",\",expand=True)\n",
    "# data\n",
    "#data['Date'].sample(5)"
   ]
  },
  {
   "cell_type": "code",
   "execution_count": 4,
   "id": "4e654509",
   "metadata": {},
   "outputs": [],
   "source": [
    "#data['Date']=pd.to_datetime(data['Date'], format=\"%Y_%m_%d\")\n",
    "#data['Date']"
   ]
  },
  {
   "cell_type": "code",
   "execution_count": 6,
   "id": "f3f58973",
   "metadata": {},
   "outputs": [],
   "source": [
    "#df=data[data['Date'].dt.month==1]\n",
    "#df[' Summa'].sum()"
   ]
  },
  {
   "cell_type": "code",
   "execution_count": 22,
   "id": "33db7e6d",
   "metadata": {
    "scrolled": true
   },
   "outputs": [
    {
     "name": "stderr",
     "output_type": "stream",
     "text": [
      "C:\\Users\\User\\AppData\\Local\\Temp\\ipykernel_8236\\1086796157.py:16: FutureWarning: The frame.append method is deprecated and will be removed from pandas in a future version. Use pandas.concat instead.\n",
      "  data_frame = data_frame.append(row)\n",
      "C:\\Users\\User\\AppData\\Local\\Temp\\ipykernel_8236\\1086796157.py:16: FutureWarning: The frame.append method is deprecated and will be removed from pandas in a future version. Use pandas.concat instead.\n",
      "  data_frame = data_frame.append(row)\n",
      "C:\\Users\\User\\AppData\\Local\\Temp\\ipykernel_8236\\1086796157.py:16: FutureWarning: The frame.append method is deprecated and will be removed from pandas in a future version. Use pandas.concat instead.\n",
      "  data_frame = data_frame.append(row)\n",
      "C:\\Users\\User\\AppData\\Local\\Temp\\ipykernel_8236\\1086796157.py:16: FutureWarning: The frame.append method is deprecated and will be removed from pandas in a future version. Use pandas.concat instead.\n",
      "  data_frame = data_frame.append(row)\n",
      "C:\\Users\\User\\AppData\\Local\\Temp\\ipykernel_8236\\1086796157.py:16: FutureWarning: The frame.append method is deprecated and will be removed from pandas in a future version. Use pandas.concat instead.\n",
      "  data_frame = data_frame.append(row)\n",
      "C:\\Users\\User\\AppData\\Local\\Temp\\ipykernel_8236\\1086796157.py:16: FutureWarning: The frame.append method is deprecated and will be removed from pandas in a future version. Use pandas.concat instead.\n",
      "  data_frame = data_frame.append(row)\n",
      "C:\\Users\\User\\AppData\\Local\\Temp\\ipykernel_8236\\1086796157.py:16: FutureWarning: The frame.append method is deprecated and will be removed from pandas in a future version. Use pandas.concat instead.\n",
      "  data_frame = data_frame.append(row)\n",
      "C:\\Users\\User\\AppData\\Local\\Temp\\ipykernel_8236\\1086796157.py:16: FutureWarning: The frame.append method is deprecated and will be removed from pandas in a future version. Use pandas.concat instead.\n",
      "  data_frame = data_frame.append(row)\n",
      "C:\\Users\\User\\AppData\\Local\\Temp\\ipykernel_8236\\1086796157.py:16: FutureWarning: The frame.append method is deprecated and will be removed from pandas in a future version. Use pandas.concat instead.\n",
      "  data_frame = data_frame.append(row)\n",
      "C:\\Users\\User\\AppData\\Local\\Temp\\ipykernel_8236\\1086796157.py:16: FutureWarning: The frame.append method is deprecated and will be removed from pandas in a future version. Use pandas.concat instead.\n",
      "  data_frame = data_frame.append(row)\n",
      "C:\\Users\\User\\AppData\\Local\\Temp\\ipykernel_8236\\1086796157.py:16: FutureWarning: The frame.append method is deprecated and will be removed from pandas in a future version. Use pandas.concat instead.\n",
      "  data_frame = data_frame.append(row)\n",
      "C:\\Users\\User\\AppData\\Local\\Temp\\ipykernel_8236\\1086796157.py:16: FutureWarning: The frame.append method is deprecated and will be removed from pandas in a future version. Use pandas.concat instead.\n",
      "  data_frame = data_frame.append(row)\n",
      "C:\\Users\\User\\AppData\\Local\\Temp\\ipykernel_8236\\1086796157.py:16: FutureWarning: The frame.append method is deprecated and will be removed from pandas in a future version. Use pandas.concat instead.\n",
      "  data_frame = data_frame.append(row)\n",
      "C:\\Users\\User\\AppData\\Local\\Temp\\ipykernel_8236\\1086796157.py:16: FutureWarning: The frame.append method is deprecated and will be removed from pandas in a future version. Use pandas.concat instead.\n",
      "  data_frame = data_frame.append(row)\n",
      "C:\\Users\\User\\AppData\\Local\\Temp\\ipykernel_8236\\1086796157.py:16: FutureWarning: The frame.append method is deprecated and will be removed from pandas in a future version. Use pandas.concat instead.\n",
      "  data_frame = data_frame.append(row)\n",
      "C:\\Users\\User\\AppData\\Local\\Temp\\ipykernel_8236\\1086796157.py:16: FutureWarning: The frame.append method is deprecated and will be removed from pandas in a future version. Use pandas.concat instead.\n",
      "  data_frame = data_frame.append(row)\n",
      "C:\\Users\\User\\AppData\\Local\\Temp\\ipykernel_8236\\1086796157.py:16: FutureWarning: The frame.append method is deprecated and will be removed from pandas in a future version. Use pandas.concat instead.\n",
      "  data_frame = data_frame.append(row)\n",
      "C:\\Users\\User\\AppData\\Local\\Temp\\ipykernel_8236\\1086796157.py:16: FutureWarning: The frame.append method is deprecated and will be removed from pandas in a future version. Use pandas.concat instead.\n",
      "  data_frame = data_frame.append(row)\n",
      "C:\\Users\\User\\AppData\\Local\\Temp\\ipykernel_8236\\1086796157.py:16: FutureWarning: The frame.append method is deprecated and will be removed from pandas in a future version. Use pandas.concat instead.\n",
      "  data_frame = data_frame.append(row)\n",
      "C:\\Users\\User\\AppData\\Local\\Temp\\ipykernel_8236\\1086796157.py:16: FutureWarning: The frame.append method is deprecated and will be removed from pandas in a future version. Use pandas.concat instead.\n",
      "  data_frame = data_frame.append(row)\n",
      "C:\\Users\\User\\AppData\\Local\\Temp\\ipykernel_8236\\1086796157.py:16: FutureWarning: The frame.append method is deprecated and will be removed from pandas in a future version. Use pandas.concat instead.\n",
      "  data_frame = data_frame.append(row)\n"
     ]
    }
   ],
   "source": [
    "import pandas as pd \n",
    "import os \n",
    "import glob\n",
    "import numpy as np\n",
    "\n",
    "\n",
    "path = \"d://Gidrometuz/tahlil/new_datas/\"\n",
    "file_list = glob.glob(os.path.join(path, \"*.xlsx\"))\n",
    "#datax=np.zeros((21, 12))\n",
    "data_frame = pd.DataFrame()\n",
    "\n",
    "for file_name in file_list:\n",
    "    file_path = os.path.join(path, file_name)\n",
    "    df = pd.read_excel(file_path)\n",
    "    row = df.iloc[19] # select first row, adjust as needed\n",
    "    data_frame = data_frame.append(row)\n",
    "    \n",
    "output_file = 'd://Gidrometuz/tahlil/new_datas/output.xlsx'\n",
    "data_frame.to_excel(output_file, index=False)"
   ]
  },
  {
   "cell_type": "code",
   "execution_count": null,
   "id": "5fea92f1",
   "metadata": {},
   "outputs": [],
   "source": [
    "import pandas as pd \n",
    "import os \n",
    "import glob\n",
    "import numpy as np\n",
    "\n",
    "path = \"d://Gidrometuz/tahlil/new_datas/\"\n",
    "csv_files = glob.glob(os.path.join(path, \"*.xlsx\"))\n",
    "datax=np.zeros((21, 12))\n",
    "jj=0\n",
    "for f in csv_files:\n",
    "    \n",
    "    # read the csv file\n",
    "    data = pd.read_excel(f)\n",
    "    data_new=pd.DataFrame()\n",
    "    data_new['yanvar']=[]\n",
    "    #data_new.columns=['yanvar','fevral','mart','aprel','may','iyun','iyul','avgust','sentabr','oktabr','noyabr','dekabr']\n",
    "    #print(data_new.columns)\n",
    "\n",
    "    # print the location and filename\n",
    "    #print('Location:', f)\n",
    "    print('File Name:', f.split(\"\\\\\")[-1])\n",
    "    data['Date']=data['Date'].astype(str)\n",
    "    data['Date']=data['Date'].str.split(pat=\",\",expand=True)\n",
    "    data['Date']=pd.to_datetime(data['Date'], format=\"%Y_%m_%d\")\n",
    "\n",
    "    \n",
    "#     data[data['Date'].dt.month==1].bool\n",
    "#     df=data[data['Date'].dt.month==1]\n",
    "#     for i in range(21):\n",
    "#         data[data['Date'].dt.month==3].bool\n",
    "#         df=data[data['Date'].dt.month==3]\n",
    "#         data_new.loc[i, \"yanvar\"] = df[' Summa'].sum()\n",
    "    yanvar_values = []\n",
    "   \n",
    "\n",
    "    for j in range(1,13):\n",
    "        df = data[data['Date'].dt.month == j]\n",
    "#         if (df[' Summa']== '-').all():\n",
    "#             df[' Summa'] = 0.0\n",
    "#         df[' Summa'] = df[' Summa'].replace('-', 0.0, inplace=True)\n",
    "        df[' Summa'] = df[' Summa'].replace('-', float('0.0'))\n",
    "#         df[' Summa'] = [i.replace('-', '0.0') for i in df[' Summa']]\n",
    "        summa_total = df[' Summa'].sum()\n",
    "        \n",
    "        yanvar_values.append((j,summa_total))\n",
    "        datax[jj][j-1]=summa_total\n",
    "    jj+=1\n",
    "data_new['yanvar'] = yanvar_values   \n",
    "#     print(data_new['yanvar'])\n",
    "# print('Content:')\n",
    "# print(datax)\n",
    "dat=pd.DataFrame(datax)\n",
    "dat.columns=['Andijon','Fargona','Jizzax','Namangan','Okbaytal','Tomdi','Qoraqalpog','Muynoq','Taxiatosh','Chimboy',\n",
    "             'Dagbit','Samarqand','Denov','Termiz','Olmaliq','Dukan','Suqoq','Toshkent','Chimyon','Tuyamuyin']\n",
    "# dat=dat.drop(0, axis=1, inplace=True)\n",
    "print(dat)\n",
    "# dat.to_excel('d:/Gidrometuz/tahlil/new_andijon.xlsx')\n",
    "\n",
    " #(data['Date'].dt.month==1).bool\n",
    "    #data_new['yanvar']=data_new.append(df[' Summa'].sum(),ignore_index=True)\n",
    "    #data_new['yanvar']=(data_new['yanvar']\n",
    "        \n",
    "    \n",
    "    #df=data[['Date',' Summa']]\n",
    "    #print(df)\n",
    "\n",
    "\n",
    "    # print the content\n",
    "    \n",
    "    #display(data)\n",
    "    #print(data)   "
   ]
  },
  {
   "cell_type": "code",
   "execution_count": null,
   "id": "0bc5f76c",
   "metadata": {},
   "outputs": [],
   "source": [
    "dat1=dat.copy()\n",
    "rows_to_drop = dat1[dat1['dekabr'] == 0].index\n",
    "\n",
    "# Drop the rows\n",
    "df = dat1.drop(rows_to_drop, axis=0)\n",
    "df"
   ]
  },
  {
   "cell_type": "code",
   "execution_count": null,
   "id": "85063d13",
   "metadata": {},
   "outputs": [],
   "source": [
    "df.to_excel('d:/Gidrometuz/tahlil/new_Tuyamuyin.xlsx')"
   ]
  },
  {
   "cell_type": "code",
   "execution_count": null,
   "id": "a027a2d0",
   "metadata": {},
   "outputs": [],
   "source": []
  }
 ],
 "metadata": {
  "kernelspec": {
   "display_name": "Python 3 (ipykernel)",
   "language": "python",
   "name": "python3"
  },
  "language_info": {
   "codemirror_mode": {
    "name": "ipython",
    "version": 3
   },
   "file_extension": ".py",
   "mimetype": "text/x-python",
   "name": "python",
   "nbconvert_exporter": "python",
   "pygments_lexer": "ipython3",
   "version": "3.9.13"
  }
 },
 "nbformat": 4,
 "nbformat_minor": 5
}
